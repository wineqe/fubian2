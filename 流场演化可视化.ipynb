{
 "cells": [
  {
   "cell_type": "code",
   "execution_count": null,
   "id": "603d884a-8f64-4147-84e4-0203df6996fd",
   "metadata": {},
   "outputs": [],
   "source": [
    "import numpy as np\n",
    "import matplotlib.pyplot as plt\n",
    "from matplotlib.animation import FuncAnimation\n",
    "\n",
    "\n",
    "# 定义参数\n",
    "rho = 1.225\n",
    "U = 10\n",
    "a = 1\n",
    "x = np.linspace(-3 * a, 3 * a, 100)\n",
    "y = np.linspace(-3 * a, 3 * a, 100)\n",
    "X, Y = np.meshgrid(x, y)\n",
    "\n",
    "fig, ax = plt.subplots()\n",
    "ax.set_xlim(-3 * a, 3 * a)\n",
    "ax.set_ylim(-3 * a, 3 * a)\n",
    "ax.set_xlabel('x')\n",
    "ax.set_ylabel('y')\n",
    "ax.set_title('Streamline Evolution with Gamma')\n",
    "\n",
    "\n",
    "def calculate_velocity(Gamma):\n",
    "    # 根据复势函数计算速度分量（此处简化计算，实际需根据理论公式推导）\n",
    "    # 假设速度计算结果\n",
    "    z = X + 1j * Y\n",
    "    Vx = U * (1 - a ** 2 / z ** 2).real + (Gamma / (2 * np.pi * z)).imag\n",
    "    Vy = U * (1 - a ** 2 / z ** 2).imag - (Gamma / (2 * np.pi * z)).real\n",
    "    return Vx, Vy\n",
    "\n",
    "\n",
    "def init():\n",
    "    ax.clear()\n",
    "    ax.set_xlim(-3 * a, 3 * a)\n",
    "    ax.set_ylim(-3 * a, 3 * a)\n",
    "    ax.set_xlabel('x')\n",
    "    ax.set_ylabel('y')\n",
    "    ax.set_title('Streamline Evolution with Gamma')\n",
    "    return []\n",
    "\n",
    "\n",
    "def animate(i):\n",
    "    Gamma = np.linspace(-4 * np.pi * a * U, 4 * np.pi * a * U, 100)[i]\n",
    "    Vx, Vy = calculate_velocity(Gamma)\n",
    "    ax.streamplot(X, Y, Vx, Vy)\n",
    "    return []\n",
    "\n",
    "\n",
    "ani = FuncAnimation(fig, animate, init_func=init, frames=100, interval=50, blit=True)\n",
    "plt.show()"
   ]
  },
  {
   "cell_type": "code",
   "execution_count": null,
   "id": "0fb6810c-d19b-4329-97e9-0a9cb3dacd41",
   "metadata": {},
   "outputs": [],
   "source": []
  }
 ],
 "metadata": {
  "kernelspec": {
   "display_name": "Python 3 (ipykernel)",
   "language": "python",
   "name": "python3"
  },
  "language_info": {
   "codemirror_mode": {
    "name": "ipython",
    "version": 3
   },
   "file_extension": ".py",
   "mimetype": "text/x-python",
   "name": "python",
   "nbconvert_exporter": "python",
   "pygments_lexer": "ipython3",
   "version": "3.8.20"
  }
 },
 "nbformat": 4,
 "nbformat_minor": 5
}
